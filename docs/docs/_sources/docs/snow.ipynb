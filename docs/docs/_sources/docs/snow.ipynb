{
 "cells": [
  {
   "cell_type": "markdown",
   "metadata": {},
   "source": [
    "(about_py)=\n",
    "\n",
    "# Snow\n",
    "\n",
    "### Snow Characteristics\n",
    "\n",
    "- Colors\n",
    "- Crystal structure\n",
    "\n",
    "### Snow Formation\n",
    "\n",
    "- A general rule: snow will not form if the ground temperature is at least 5°C.\n",
    "- Temperature vs moisture (Antarctica’s Dry Valley!)\n",
    "- Most snowflakes are less than 1.3 cm.\n",
    "- Snow seasonality\n",
    "\n",
    "### Vertical Profile of Ground Snow\n",
    "\n",
    "- Daytime temperature inversion\n",
    "\n",
    "### Snow Water Equivalent\n",
    "\n",
    "- Definition: the thickness of water that would result from melting a given layer of snow.\n",
    "- 25 cm of fresh snow ~= 0.25-10 cm of water.\n",
    "- New snow in the U.S. contains a water-to-snow ratio between 4-10%.\n",
    "\n",
    "### Snow and Weather\n",
    "\n",
    "- Snow forecasting remains challenging.\n",
    "- Follow storm tracks in boreal winter.\n",
    "- Blizzard and bomb cyclone\n",
    "- Thunder snow (summer)\n",
    "- Polar vortex\n",
    "\n",
    "### Snow and Vegetation\n",
    "\n",
    "- Wind direction\n",
    "- Canopy snow\n",
    "- Tree type\n",
    "- Clearings\n",
    "\n",
    "### Snowpack Energy Budget\n",
    "\n",
    "- Snow albedo\n",
    "- Latent heat of snow\n",
    "- Turbulent transfer\n",
    "\n",
    "### Snow and Rain Temperature\n",
    "\n",
    "### Snow and Water Flow\n",
    "\n",
    "### Lake Effect Snow\n",
    "\n",
    "### Snow and Climate Change\n",
    "\n",
    "- Snow trend and variability\n",
    "- Snow as a forcing to affect atmospheric circulation?\n",
    "\n",
    "```{figure} /_static/lecture_specific/figures/snow_trend.png\n",
    ":scale: 55%\n",
    "March snow water equivalent and its trend (per decade). Source: [Pullianinen et al. (2020)](https://www.nature.com/articles/s41586-020-2258-0?WT.ec_id=NATURE-20200521&utm_source=nature_etoc&utm_medium=email&utm_campaign=20200521&sap-outbound-id=D5CFB82319EA9147647EAB1590572376176446DE)\n",
    "```\n",
    "### Sources\n",
    "\n",
    "- [Snowmelt Processes](http://ftp.comet.ucar.edu/memory-stick/hydro/basic_int/snowmelt/index.htm)\n",
    "- [NSIDC All About Snow](https://nsidc.org/cryosphere/snow)"
   ]
  }
 ],
 "metadata": {
  "jupytext": {
   "text_representation": {
    "extension": ".md",
    "format_name": "myst"
   }
  },
  "kernelspec": {
   "display_name": "Python 3",
   "language": "python",
   "name": "python3"
  },
  "language_info": {
   "codemirror_mode": {
    "name": "ipython",
    "version": 3
   },
   "file_extension": ".py",
   "mimetype": "text/x-python",
   "name": "python",
   "nbconvert_exporter": "python",
   "pygments_lexer": "ipython3",
   "version": "3.8.5"
  },
  "source_map": [
   10
  ]
 },
 "nbformat": 4,
 "nbformat_minor": 4
}