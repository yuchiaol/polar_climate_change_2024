{
 "cells": [
  {
   "cell_type": "markdown",
   "metadata": {},
   "source": [
    "(python_by_example)=\n",
    "\n",
    "# HW Sea-ice Data Illustration\n",
    "\n",
    "### Individual Work\n",
    "\n",
    "### Credits: 10%\n",
    "\n",
    "### Grading:\n",
    "- Yu-Chiao Liang (10%)\n",
    "\n",
    "### Deadline: xxx\n",
    "\n",
    "### The Tasks\n",
    "\n",
    "- Download sea-ice gridded dataset\n",
    "- Demonstrate the spatial information of Arctic sea ice changes in the past decades.\n",
    "- Demonstrate the temporal evolution of September Arctic sea ice since 1979.\n",
    "- Demonstrate the temporal evolution of daily Arctic sea ice from January 2021 to present.\n",
    "- Write one short paragraph to summarize what you find from above figures:\n",
    "  - What is the difference between your results and, for example, NSIDC releases?\n",
    "  - How sea ice changes with time? Secular trends? Interannual variability?\n",
    "- Be creative! For example, [climate spiral](http://www.climate-lab-book.ac.uk/spirals/).\n",
    "\n",
    "### Sea-ice Datasets\n",
    "\n",
    "- [NSIDC](https://nsidc.org/data/search/#keywords=sea+ice/sortKeys=score,,desc/facetFilters=%257B%257D/pageNumber=1/itemsPerPage=25)\n",
    "- [PIOMAS](http://psc.apl.uw.edu/research/projects/arctic-sea-ice-volume-anomaly/data/model_grid)\n",
    "- [Met Office Hadley Centre observations datasets](https://www.metoffice.gov.uk/hadobs/hadisst/data/download.html)\n",
    "\n",
    "### Examples\n",
    "\n",
    "- [Ch$arctic$ Interactive Sea Ice Grap](https://nsidc.org/arcticseaicenews/charctic-interactive-sea-ice-graph/)\n",
    "- [Zack Labe's Website](https://sites.uci.edu/zlabe/arctic-sea-ice-figures/)"
   ]
  }
 ],
 "metadata": {
  "jupytext": {
   "text_representation": {
    "extension": ".md",
    "format_name": "myst"
   }
  },
  "kernelspec": {
   "display_name": "Python 3",
   "language": "python",
   "name": "python3"
  },
  "language_info": {
   "codemirror_mode": {
    "name": "ipython",
    "version": 3
   },
   "file_extension": ".py",
   "mimetype": "text/x-python",
   "name": "python",
   "nbconvert_exporter": "python",
   "pygments_lexer": "ipython3",
   "version": "3.8.5"
  },
  "source_map": [
   10
  ]
 },
 "nbformat": 4,
 "nbformat_minor": 4
}