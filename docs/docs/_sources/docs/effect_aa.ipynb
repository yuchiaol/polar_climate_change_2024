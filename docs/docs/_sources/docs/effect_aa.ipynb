{
 "cells": [
  {
   "cell_type": "markdown",
   "metadata": {},
   "source": [
    "(about_py)=\n",
    "\n",
    "# Arctic-Midlatitude Linkage\n",
    "\n",
    "> Arctic-Midlatitude Linkage has been hotly discussed and debated in the past years. [Here's an an article on “CarbonBrief”](https://www.carbonbrief.org/qa-how-is-arctic-warming-linked-to-polar-vortext-other-extreme-weather?fbclid=IwAR3IdscKbEHYVgGdkInmUMBzArEswKu51fGUOQG4OazrNg5MqXQUtQ5hWkQ).\n",
    "\n",
    "### Brief History of Arctic Mid-latitude Linkage Study\n",
    "\n",
    "- 1914: Swedish meteorologist Hugo Hildebrand Hildebrandsson  \n",
    "- 1924: Russian oceanographer Wlaimir Juljewitsch Wiese\n",
    "- 1973: R. L. Newson published a Nature paper, which used GCM to study Arctic sea-ice impacts on the atmosphere.  \n",
    "- 2010: J. A. Screen published a Nature paper, which showed that Arctic sea ice plays a central role in Arctic Amplification.\n",
    "- 2012: J. A. Francis and S. T. Vavrus published a GRL paper, which linked Arctic warming to extreme events in midlatitudes.\n",
    "- 2013: Elizabeth A. Barnes’s GRL paper (argued the Arctic-midlatitude linkage).\n",
    "- 2014: J. M. Wallace’s Science paper.\n",
    "- 2014: J. Cohen’s review paper on Nature Geoscience (stratosphere).\n",
    "- 2020: J. Cohen’s review paper on Nature Climate Change (divergent consensus)\n",
    "\n",
    "### Arctic Sea Ice Loss and Increasing extreme events in Northern Hemisphere\n",
    "\n",
    "```{figure} /_static/lecture_specific/figures/extreme_us.png\n",
    "---\n",
    "scale: 55%\n",
    "---\n",
    "Snowstorms in U.S. cities. Source: AER.\n",
    "```\n",
    "\n",
    "### Warm Arctic-Cold Eurasia (WACE) pattern\n",
    "\n",
    "```{figure} /_static/lecture_specific/figures/wace.jpeg\n",
    "---\n",
    "scale: 65%\n",
    "---\n",
    "Map of global temperatures for 31 January 2019, shown as anomalies from a 1979-2000 baseline. Source: Climate Change Institute, University of Maine.\n",
    "```\n",
    "### Arctic Warming and Mid-latitude Rossby Waves\n",
    "\n",
    "Francis and  Vavrus (2012) GRL paper was among the first to propose that Arctic warming could affect mid-latitude extreme \n",
    "via altering large-scale atmospheric waves. However, the comtemporary studies showed weak, or opposite results.\n",
    "\n",
    "### Proposed Mechanisms\n",
    "\n",
    "- Waiver jet stream\n",
    "  - north-south temperature gradient + Rossby wave (Francis & Vavrus 2012).\n",
    "  - storm tracks + NAO/AO (Cohen & Barow 2005; Deser et al. 2007; Honda et al. 2009).\n",
    "  - warm Arctic-cold continents (WACC) pattern (Cohen et al. 2014).\n",
    "  - [Youtube video](https://www.youtube.com/watch?v=TuHdPvnu3Ds&feature=emb_logo).\n",
    "- Polar vorrtex \n",
    "  - SSW breakdown (Kim et al. 2014; Kretchmer et al. 2018).\n",
    "  - [Youtube video](https://www.youtube.com/watch?v=2YaLbJIycVE&feature=emb_logo)\n",
    "- Wave resonance\n",
    "  - in summer season only (Petoukhov et al. 2013)\n",
    "  - the theory of quasi-resonant amplification (QRA, Coumou et al. 2014; Mann et al. 2017)\n",
    "  - [Youtube video](https://www.youtube.com/watch?v=5cQ2q5ulSqY&feature=emb_logo)\n",
    "\n",
    "```{figure} /_static/lecture_specific/figures/schematic.jpeg\n",
    "---\n",
    "scale: 65%\n",
    "---\n",
    "Schematic of influences on northern hemisphere mid-latitude weather. Source: Cohen et al. (2014)\n",
    "```\n",
    "\n",
    "### Observational and GCM Inconsistency\n",
    "\n",
    "- Jet stream\n",
    "- NAO\n",
    "- Arctic Amplification and Severe Weather Events\n",
    "- Sources of Disagreement in Model Experiments\n",
    "- Large internal atmospheric variability -> low signal-to-noise ratio\n",
    "- Causality"
   ]
  }
 ],
 "metadata": {
  "jupytext": {
   "text_representation": {
    "extension": ".md",
    "format_name": "myst"
   }
  },
  "kernelspec": {
   "display_name": "Python 3",
   "language": "python",
   "name": "python3"
  },
  "language_info": {
   "codemirror_mode": {
    "name": "ipython",
    "version": 3
   },
   "file_extension": ".py",
   "mimetype": "text/x-python",
   "name": "python",
   "nbconvert_exporter": "python",
   "pygments_lexer": "ipython3",
   "version": "3.8.5"
  },
  "source_map": [
   10
  ]
 },
 "nbformat": 4,
 "nbformat_minor": 4
}