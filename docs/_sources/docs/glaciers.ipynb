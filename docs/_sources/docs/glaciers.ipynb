{
 "cells": [
  {
   "cell_type": "markdown",
   "metadata": {},
   "source": [
    "(about_py)=\n",
    "\n",
    "# Glaciers\n",
    "\n",
    "### Glacier Types\n",
    "\n",
    "### Climate Conditions for Glaciers\n",
    "\n",
    "- High snowfall in winter + cool temperature in summer\n",
    "- Accumulated snow transforms into firn and then ice\n",
    "- In polar and alpine regions \n",
    "- Sources and losses\n",
    "\n",
    "### Locations of Glaciers \n",
    "\n",
    "### The Life Cycle of a Glacier\n",
    "\n",
    "- Snow -> granular ice -> firn -> glacial ice\n",
    "- Zones of accumulation and ablation\n",
    "- [Glaciers in Alaska](https://www.nytimes.com/interactive/2021/04/13/climate/muldrow-glacier-alaska-mount-denali.html?campaign_id=190&emc=edit_ufn_20210415&instance_id=29272&nl=updates-from-the-newsroom&regi_id=137798370&segment_id=55645&te=1&user_id=2965ea70db4c6fab16f65fb9d771d3c3)\n",
    "\n",
    "### Moraines\n",
    "\n",
    "### Pink Glacial Ice in the Alps\n",
    "\n",
    "### Glacier Observations and Modelling\n",
    "\n",
    "- In situ and airborne survey\n",
    "- Satellite observations (e.g., GRACE)\n",
    "- [NCAR Land Ice Working Group](http://www.cesm.ucar.edu/working_groups/Land+Ice/)\n",
    "- [Python Glacier Evolution Model](https://github.com/drounce/PyGEM/wiki)\n",
    "\n",
    "### Glacier Retreat and Sea Level Rise\n",
    "\n",
    "- [Glacier retreat](https://www.youtube.com/watch?time_continue=7&v=E4Zc_KuXMkA&feature=emb_logo)\n",
    "\n",
    "```{figure} /_static/lecture_specific/figures/glacier_retreat.jpeg\n",
    ":scale: 55%\n",
    "The retreat of Breiðamerkurjökull and growth of Jökulsárlón glacial lake. Source: Glaciological Group of the Institute of Earth Sciences of University of Iceland.\n",
    "```\n",
    "\n",
    "```{figure} /_static/lecture_specific/figures/glaciers_slr.jpeg\n",
    ":scale: 55%\n",
    "Global sea level rise. Source: [Björnsson et al. (2018)](https://www.vatnajokulsthjodgardur.is/en/areas/melting-glaciers/glaciers-and-climate-change/references)\n",
    "```\n",
    "### Greenland Glacier and Natural Variability\n",
    "\n",
    "### Sources\n",
    "\n",
    "- [NSIDC All About Glaciers](https://nsidc.org/cryosphere/glaciers )\n",
    "- [Dr Mathieu Morlighem](https://www.youtube.com/watch?v=EApyLVCng9I)\n",
    "- [Melting glaciers drove ‘21% of sea level rise’ over past two decades](https://www.carbonbrief.org/melting-glaciers-drove-21-of-sea-level-rise-over-past-two-decades?fbclid=IwAR3C-b-S9n3YqZlU0fEK3fH15Go9jNZKv9Pu2xzcZDFKUvJcmSvH9_9Mxew)"
   ]
  }
 ],
 "metadata": {
  "jupytext": {
   "text_representation": {
    "extension": ".md",
    "format_name": "myst"
   }
  },
  "kernelspec": {
   "display_name": "Python 3",
   "language": "python",
   "name": "python3"
  },
  "language_info": {
   "codemirror_mode": {
    "name": "ipython",
    "version": 3
   },
   "file_extension": ".py",
   "mimetype": "text/x-python",
   "name": "python",
   "nbconvert_exporter": "python",
   "pygments_lexer": "ipython3",
   "version": "3.8.5"
  },
  "source_map": [
   10
  ]
 },
 "nbformat": 4,
 "nbformat_minor": 4
}