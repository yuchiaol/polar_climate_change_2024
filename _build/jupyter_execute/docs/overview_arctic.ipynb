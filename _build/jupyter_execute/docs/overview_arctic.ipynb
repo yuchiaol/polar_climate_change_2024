{
 "cells": [
  {
   "cell_type": "markdown",
   "metadata": {},
   "source": [
    "(about_py)=\n",
    "\n",
    "# Overview of Arctic\n",
    "\n",
    "> \\\"The region surrounding the North Pole consists of a large ocean surrounded by land. \n",
    "> This ocean, called the Arctic Ocean, is like no other ocean on Earth; \n",
    "> and because of its special location and climate, the lands that surround it are unique.\\\" \n",
    "> -- [NSIDC All About Arctic Climatology and Meteorology](https://nsidc.org/cryosphere/arctic-meteorology/index.html)\n",
    "\n",
    "### Arctic Definitions\n",
    "\n",
    "- 66° 34' N\n",
    "- Summer and winter solstices\n",
    "- Arctic tree line\n",
    "- Average daily summer temperature is not higher than 10° Celsius (50° Fahrenheit)\n",
    "\n",
    "### Arctic Geography\n",
    "\n",
    "```{figure} /_static/lecture_specific/figures/Arctic_map.jpg\n",
    ":scale: 72%\n",
    "Arctic geography map. Source: [Getty Images Art by Dorling Kindersley](https://fineartamerica.com/featured/digital-illustration-of-map-showing-position-of-arctic-ocean-and-surrounding-continents-dorling-kindersley.html?product=art-print&googleShopping=true&completeProductSku=artworkid%5B7565065%5D-productid%5Bprint%5D-imagewidth%5B8%5D-imageheight%5B8%5D-paperid%5Barchivalmattepaper%5D&gclid=CjwKCAjwjbCDBhAwEiwAiudBy_XiAAV7bdNdRwbw_6xS0h-Swke0cTkQi3vW0czKwnP_cIKo2SyQDRoCQloQAvD_BwE)\n",
    "```\n",
    "### Arctic Climatology and Meteorology\n",
    "\n",
    "- Maritime vs continental climate\n",
    "- Factors\n",
    "  - Location\n",
    "  - Temperature\n",
    "  - Pressure system\n",
    "  - Ocean currents\n",
    "  - Rivers\n",
    "  - Clouds\n",
    "  - Precipitation\n",
    "  - Biosphere\n",
    "\n",
    "### Arctic Climate Change\n",
    "\n",
    "- [IPCC’s Special Report on the Ocean and Cryosphere in a Changing Climate – Chapter 3 Polar regions.](https://www.ipcc.ch/srocc/chapter/chapter-3-2/)\n",
    "- [2020 NCAR CESM tutorial lecture: Extremes in the Arctic](http://www.cesm.ucar.edu/events/tutorials/2020/coursework.html) \n",
    "- Arctic amplification\n",
    "- Arctic sea-ice decline\n",
    "- Atlantification\n",
    "- Biogeochemistry\n",
    "- Thawing permafrost\n",
    "- Snow\n",
    "- Freshwater system\n",
    "- Lightening\n",
    "\n",
    "### A Case Study - Record-Breaking Siberian Temperature in 2020\n",
    "\n",
    "```{figure} /_static/lecture_specific/figures/arctic_amo_2020172_lrg.png\n",
    ":scale: 32%\n",
    "2020 June Land surface temperature anomalies relative to 2003-2018 mean. Source: [NASA GISS](https://earthobservatory.nasa.gov/images/146879/heat-and-fire-scorches-siberia)\n",
    "```\n",
    "\n",
    "### Arctic Exploration\n",
    "\n",
    "- Brief histroy\n",
    "- Multidisciplinary drifting Observatory for the Study of Arctic Climate [(MOSAiC)](https://mosaic-expedition.org/)\n",
    "- I invite [Dr Ying-Chih Fang](https://mosaic-expedition.org/profile/ying-chih-fang/), who is particitating in MOSAiC project, to give a seminar talk in September."
   ]
  }
 ],
 "metadata": {
  "jupytext": {
   "text_representation": {
    "extension": ".md",
    "format_name": "myst"
   }
  },
  "kernelspec": {
   "display_name": "Python 3",
   "language": "python",
   "name": "python3"
  },
  "language_info": {
   "codemirror_mode": {
    "name": "ipython",
    "version": 3
   },
   "file_extension": ".py",
   "mimetype": "text/x-python",
   "name": "python",
   "nbconvert_exporter": "python",
   "pygments_lexer": "ipython3",
   "version": "3.8.5"
  },
  "source_map": [
   10
  ]
 },
 "nbformat": 4,
 "nbformat_minor": 4
}