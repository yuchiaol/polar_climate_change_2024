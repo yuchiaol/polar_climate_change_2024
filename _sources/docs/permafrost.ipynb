{
 "cells": [
  {
   "cell_type": "markdown",
   "metadata": {},
   "source": [
    "(about_py)=\n",
    "\n",
    "# Permafrost\n",
    "\n",
    "### Frozen Ground vs Permafrost\n",
    "\n",
    "- Seasonally frozen ground: freezes more than 15 days per year ([The Ice Bowl](https://www.youtube.com/watch?v=8apXOwq5Nwg))\n",
    "- Permafrost (permanently frozen ground): <= 0°C for at least 2 years (not necessary having water or ice!)\n",
    "\n",
    "### Permafrost Zones\n",
    "\n",
    "```{figure} /_static/lecture_specific/figures/permafrost_map.png\n",
    "---\n",
    "scale: 55%\n",
    "align: left\n",
    "---\n",
    "Permafrost zones and locations for CO2 and methane flux measurements collected with eddy covariance (yellow) and chambers (blue). Source: [EOS](https://eos.org/science-updates/is-the-northern-permafrost-zone-a-source-or-a-sink-for-carbon)\n",
    "```\n",
    "\n",
    "### Frozen Seafloor: Subsea Permafrost\n",
    "\n",
    "### Factors Affect Permafrost\n",
    "\n",
    "- Diurnal cycle\n",
    "- Seasonal cycle\n",
    "- Geographic location\n",
    "- Elevation\n",
    "- Landscape: snow (insulator), soil type, peat, plants (evergreen trees)\n",
    "- Slope\n",
    "- Lakes and rivers: heat source, talik\n",
    "- Radiation\n",
    "\n",
    "### Thawing Permafrost and Climate Change\n",
    "\n",
    "- Satellite observations (e.g., GRACE and ICESat)\n",
    "- Air temperature\n",
    "- Moisture\n",
    "- Active layer\n",
    "- Lakes\n",
    "- Ecosystem\n",
    "- Sea level\n",
    "\n",
    "### Biological and Human Activities and Permafrost\n",
    "\n",
    "### Permafrost and Carbon Cycle\n",
    "\n",
    "- Carbon dioxide\n",
    "- Methane\n",
    "\n",
    "### Sources\n",
    "\n",
    "- [NSIDC All About Frozen Ground](https://nsidc.org/cryosphere/frozenground/index.html)"
   ]
  }
 ],
 "metadata": {
  "jupytext": {
   "text_representation": {
    "extension": ".md",
    "format_name": "myst"
   }
  },
  "kernelspec": {
   "display_name": "Python 3",
   "language": "python",
   "name": "python3"
  },
  "language_info": {
   "codemirror_mode": {
    "name": "ipython",
    "version": 3
   },
   "file_extension": ".py",
   "mimetype": "text/x-python",
   "name": "python",
   "nbconvert_exporter": "python",
   "pygments_lexer": "ipython3",
   "version": "3.8.5"
  },
  "source_map": [
   10
  ]
 },
 "nbformat": 4,
 "nbformat_minor": 4
}